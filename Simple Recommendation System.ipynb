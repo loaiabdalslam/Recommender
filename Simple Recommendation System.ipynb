{
 "cells": [
  {
   "cell_type": "code",
   "execution_count": 4,
   "metadata": {},
   "outputs": [],
   "source": [
    "import pandas as pd\n",
    "import numpy as np\n",
    "from sklearn.feature_extraction.text import CountVectorizer\n",
    "from sklearn.metrics.pairwise import cosine_similarity\n",
    "text = [\"lonon paris london\",\"paris paris london\"]\n",
    "\n"
   ]
  },
  {
   "cell_type": "code",
   "execution_count": 31,
   "metadata": {},
   "outputs": [
    {
     "name": "stdout",
     "output_type": "stream",
     "text": [
      "[[2 0 1]\n",
      " [1 1 2]\n",
      " [1 0 1]]\n"
     ]
    }
   ],
   "source": [
    "cv = CountVectorizer()\n",
    "cv_fit=cv.fit_transform(text)\n",
    "\n",
    "text = [\"london paris london\",\"paris  paris london\",\"paris london\"]\n",
    "# [keywords  name  director ]\n",
    "# Distinace Between 2 Vectors\n",
    "\n",
    "frequency = cv_fit.toarray()\n",
    "print(frequency)\n"
   ]
  },
  {
   "cell_type": "code",
   "execution_count": 34,
   "metadata": {},
   "outputs": [
    {
     "data": {
      "text/plain": [
       "array([[1.        , 0.73029674, 0.9486833 ],\n",
       "       [0.73029674, 1.        , 0.8660254 ],\n",
       "       [0.9486833 , 0.8660254 , 1.        ]])"
      ]
     },
     "execution_count": 34,
     "metadata": {},
     "output_type": "execute_result"
    }
   ],
   "source": [
    "cosine_sim = cosine_similarity(frequency)\n",
    "cosine_sim"
   ]
  },
  {
   "cell_type": "code",
   "execution_count": 36,
   "metadata": {},
   "outputs": [
    {
     "data": {
      "text/plain": [
       "[(0, 0.9486832980505137), (1, 0.8660254037844387), (2, 0.9999999999999998)]"
      ]
     },
     "execution_count": 36,
     "metadata": {},
     "output_type": "execute_result"
    }
   ],
   "source": [
    "get_like = 'paris london'\n",
    "similar_movie_index = text.index(get_like)\n",
    "similar_movies = list(enumerate(cosine_sim[similar_movie_index]))\n",
    "similar_movies"
   ]
  },
  {
   "cell_type": "code",
   "execution_count": 37,
   "metadata": {},
   "outputs": [],
   "source": [
    "sorted_similar_movies = sorted(similar_movies,key=lambda x:x[1],reverse = True)"
   ]
  },
  {
   "cell_type": "code",
   "execution_count": 38,
   "metadata": {},
   "outputs": [
    {
     "data": {
      "text/plain": [
       "[(2, 0.9999999999999998), (0, 0.9486832980505137), (1, 0.8660254037844387)]"
      ]
     },
     "execution_count": 38,
     "metadata": {},
     "output_type": "execute_result"
    }
   ],
   "source": [
    "sorted_similar_movies"
   ]
  },
  {
   "cell_type": "code",
   "execution_count": 52,
   "metadata": {},
   "outputs": [
    {
     "name": "stdout",
     "output_type": "stream",
     "text": [
      "london paris london -Similarty: 94.868 %\n",
      "paris  paris london -Similarty: 86.603 %\n"
     ]
    }
   ],
   "source": [
    "for movie in sorted_similar_movies:\n",
    "    if text[movie[0]] != get_like:\n",
    "        print(text[movie[0]],'-Similarty:',round(movie[1]*100,3),'%')"
   ]
  },
  {
   "cell_type": "code",
   "execution_count": null,
   "metadata": {},
   "outputs": [],
   "source": []
  }
 ],
 "metadata": {
  "kernelspec": {
   "display_name": "Python 3",
   "language": "python",
   "name": "python3"
  },
  "language_info": {
   "codemirror_mode": {
    "name": "ipython",
    "version": 3
   },
   "file_extension": ".py",
   "mimetype": "text/x-python",
   "name": "python",
   "nbconvert_exporter": "python",
   "pygments_lexer": "ipython3",
   "version": "3.7.6"
  }
 },
 "nbformat": 4,
 "nbformat_minor": 4
}
